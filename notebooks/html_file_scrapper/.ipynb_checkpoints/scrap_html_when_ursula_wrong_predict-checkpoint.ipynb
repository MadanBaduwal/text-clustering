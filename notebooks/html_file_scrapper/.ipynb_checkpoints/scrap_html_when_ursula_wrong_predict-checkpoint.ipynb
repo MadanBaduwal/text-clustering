{
 "cells": [
  {
   "cell_type": "markdown",
   "id": "b950e9df",
   "metadata": {},
   "source": [
    "# scrap website html when ursula wrong predict"
   ]
  },
  {
   "cell_type": "code",
   "execution_count": 1,
   "id": "013fbd03",
   "metadata": {},
   "outputs": [],
   "source": [
    "import glob\n",
    "\n",
    "files = glob.glob('*.csv')"
   ]
  },
  {
   "cell_type": "code",
   "execution_count": 2,
   "id": "75ac0470",
   "metadata": {},
   "outputs": [
    {
     "data": {
      "text/plain": [
       "[]"
      ]
     },
     "execution_count": 2,
     "metadata": {},
     "output_type": "execute_result"
    }
   ],
   "source": [
    "files"
   ]
  },
  {
   "cell_type": "code",
   "execution_count": null,
   "id": "791a6fa3",
   "metadata": {},
   "outputs": [],
   "source": []
  }
 ],
 "metadata": {
  "kernelspec": {
   "display_name": "Python 3 (ipykernel)",
   "language": "python",
   "name": "python3"
  },
  "language_info": {
   "codemirror_mode": {
    "name": "ipython",
    "version": 3
   },
   "file_extension": ".py",
   "mimetype": "text/x-python",
   "name": "python",
   "nbconvert_exporter": "python",
   "pygments_lexer": "ipython3",
   "version": "3.9.7"
  }
 },
 "nbformat": 4,
 "nbformat_minor": 5
}
